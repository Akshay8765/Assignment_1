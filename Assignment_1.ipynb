{
 "cells": [
  {
   "cell_type": "markdown",
   "id": "dcfee536",
   "metadata": {},
   "source": [
    "Assignment_1"
   ]
  },
  {
   "cell_type": "raw",
   "id": "7c372b08",
   "metadata": {},
   "source": [
    "1. In the below elements which of them are values or an expression? eg:- values can be\n",
    "integer or string and expressions will be mathematical operators.\n",
    "Answer: * - expressions\n",
    "      'hello' - values\n",
    "        -87.8 - values\n",
    "        - - expressions\n",
    "        / - expressions\n",
    "        + - expressions\n",
    "        6 - values"
   ]
  },
  {
   "cell_type": "raw",
   "id": "37ca4842",
   "metadata": {},
   "source": [
    "2. What is the difference between string and variable?\n",
    "Answer: variable - variable is a storage of information\n",
    "        string - string is a type of information stored in a variable"
   ]
  },
  {
   "cell_type": "raw",
   "id": "5623b6a0",
   "metadata": {},
   "source": [
    "3. Describe three different data types.\n",
    "Answer: Integer(int) - whole number it may be positive or negative eg: 7,56,267\n",
    "        floating point(flot) - Number with a decimal point eg: 2.4, 34.5\n",
    "        Boolean - Representing logical values eg: True or False    "
   ]
  },
  {
   "cell_type": "raw",
   "id": "2e7bc14a",
   "metadata": {},
   "source": [
    "4. What is an expression made up of? What do all expressions do?\n",
    "Answer: An expression is a combination of operators, value and variables. If Python interpreter ask to print an expression, the         interpreter evaluates the expression and displays the result."
   ]
  },
  {
   "cell_type": "raw",
   "id": "ee670061",
   "metadata": {},
   "source": [
    "5. This assignment statements, like spam = 10. What is the difference between an\n",
    "expression and a statement?\n",
    "Answer: The expression in Python produces some value or result after being interpreted by the Python interpreter.\n",
    "        A statement is not evaluated for some results. A statement is used for creating variables or for displaying values.\n"
   ]
  },
  {
   "cell_type": "raw",
   "id": "67283dcb",
   "metadata": {},
   "source": [
    "6. After running the following code, what does the variable bacon contain?\n",
    "bacon = 22\n",
    "bacon + 1\n",
    "Answer: bacon = 23"
   ]
  },
  {
   "cell_type": "raw",
   "id": "a47db177",
   "metadata": {},
   "source": [
    "7. What should the values of the following two terms be?\n",
    "\"spam\" + \"spamspam\"\n",
    "\"spam\" * 3\n",
    "Answer: \"spam\" + \"spamspam\" = \"spamspamspam\"\n",
    "        \"spam\" * 3 = \"spamspamspam\""
   ]
  },
  {
   "cell_type": "raw",
   "id": "c5dec6a9",
   "metadata": {},
   "source": [
    "8. Why is eggs a valid variable name while 100 is invalid?\n",
    "Answer: Because variable names cannot begin with a number."
   ]
  },
  {
   "cell_type": "raw",
   "id": "a246f656",
   "metadata": {},
   "source": [
    "9. What three functions can be used to get the integer, floating-point number, or string\n",
    "version of a value?\n",
    "Answer: int(), flot() and str()"
   ]
  },
  {
   "cell_type": "raw",
   "id": "0c3f0df0",
   "metadata": {},
   "source": [
    "10. Why does this expression cause an error? How can you fix it?\n",
    "\"I have eaten\" + 99 +  \"burritos\".\n",
    "Answer:Because 99 is a intiger if we are adding a any two data type it must be only string or integer. To fix the expression we        can convert integer in to string \n",
    "       \"I have eaten\" + str(99) + \"burritos\""
   ]
  }
 ],
 "metadata": {
  "kernelspec": {
   "display_name": "Python 3 (ipykernel)",
   "language": "python",
   "name": "python3"
  },
  "language_info": {
   "codemirror_mode": {
    "name": "ipython",
    "version": 3
   },
   "file_extension": ".py",
   "mimetype": "text/x-python",
   "name": "python",
   "nbconvert_exporter": "python",
   "pygments_lexer": "ipython3",
   "version": "3.9.12"
  }
 },
 "nbformat": 4,
 "nbformat_minor": 5
}
