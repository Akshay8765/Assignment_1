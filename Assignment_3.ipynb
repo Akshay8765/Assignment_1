{
 "cells": [
  {
   "cell_type": "code",
   "execution_count": null,
   "id": "7cf5fec4",
   "metadata": {},
   "outputs": [],
   "source": [
    "Assignment no 3"
   ]
  },
  {
   "cell_type": "code",
   "execution_count": null,
   "id": "f6a69eb6",
   "metadata": {},
   "outputs": [],
   "source": [
    "1. Why are functions advantageous to have in your programs?\n",
    "Ans: Functions reduce the need for duplicate code. This makes programs shorter, easier to read, and easier to update.\n",
    "     The main advantage of functions is code Reusability."
   ]
  },
  {
   "cell_type": "code",
   "execution_count": null,
   "id": "9fcc2813",
   "metadata": {},
   "outputs": [],
   "source": [
    "2. When does the code in a function run: when it's specified or when it's called?\n",
    "Ans: The code in a function executes when the function is called, not when the function is specified."
   ]
  },
  {
   "cell_type": "code",
   "execution_count": null,
   "id": "ba98ccec",
   "metadata": {},
   "outputs": [],
   "source": [
    "3. What statement creates a function?\n",
    "Ans: The def statement defines a function  \n",
    "     Syntax of Function:  \n",
    "     \n",
    "              def function_name(parameters):         \n",
    "                -----function body-----\n",
    "                -----function body-----\n",
    "                return value"
   ]
  },
  {
   "cell_type": "markdown",
   "id": "dbb3b690",
   "metadata": {},
   "source": [
    "4. What is the difference between a function and a function call?\n",
    "Ans: A function is procedure to achieve a particular result. while function call is using this function to achive that task. Using a function to do a particular task any point in program is called as function call. \n"
   ]
  },
  {
   "cell_type": "code",
   "execution_count": null,
   "id": "4e4c642c",
   "metadata": {},
   "outputs": [],
   "source": [
    "5. How many global scopes are there in a Python program? How many local scopes?\n",
    "Ans: There is one global scope, and a local scope is created whenever a function is called."
   ]
  },
  {
   "cell_type": "code",
   "execution_count": null,
   "id": "d9ccde14",
   "metadata": {},
   "outputs": [],
   "source": [
    "6. What happens to variables in a local scope when the function call returns?\n",
    "Ans: When a function returns, the local scope is destroyed, and all the variables in it are forgotten."
   ]
  },
  {
   "cell_type": "code",
   "execution_count": null,
   "id": "b7b1d537",
   "metadata": {},
   "outputs": [],
   "source": [
    "7. What is the concept of a return value? Is it possible to have a return value in an expression?\n",
    "Ans: A return value is the value that the function call evaluates to. Like any value, a return value can be used as part of an\n",
    "expression."
   ]
  },
  {
   "cell_type": "code",
   "execution_count": null,
   "id": "6a40cbea",
   "metadata": {},
   "outputs": [],
   "source": [
    "8. If a function does not have a return statement, what is the return value of a call to that function?\n",
    "Ans: If there is no return statement for a function, its return value is None."
   ]
  },
  {
   "cell_type": "code",
   "execution_count": null,
   "id": "901e48eb",
   "metadata": {},
   "outputs": [],
   "source": [
    "9. How do you make a function variable refer to the global variable?\n",
    "Ans: A global statement will force a variable in a function to refer to the global variable.If you want to refer to global\n",
    "    variable in a function, you can use the global keyword to declare which variable are global."
   ]
  },
  {
   "cell_type": "code",
   "execution_count": null,
   "id": "c35e4c30",
   "metadata": {},
   "outputs": [],
   "source": [
    "10. What is the data type of None?\n",
    "Ans: The data type of None is NoneType."
   ]
  },
  {
   "cell_type": "code",
   "execution_count": null,
   "id": "af718a8e",
   "metadata": {},
   "outputs": [],
   "source": [
    "11. What does the sentence import areallyourpetsnamederic do?\n",
    "Ans: The import statement imports a module name areallyourpetsnamederic."
   ]
  },
  {
   "cell_type": "code",
   "execution_count": null,
   "id": "5e082a87",
   "metadata": {},
   "outputs": [],
   "source": [
    "12. If you had a bacon() feature in a spam module, what would you call it after importing spam?\n",
    "Ans: This function can be called with spam.bacon()."
   ]
  },
  {
   "cell_type": "code",
   "execution_count": null,
   "id": "31549181",
   "metadata": {},
   "outputs": [],
   "source": [
    "13. What can you do to save a programme from crashing if it encounters an error?\n",
    "Ans: Place the line of code that might cause an error in a try clause and use except block to handle the error."
   ]
  },
  {
   "cell_type": "code",
   "execution_count": null,
   "id": "706a8942",
   "metadata": {},
   "outputs": [],
   "source": [
    "14. What is the purpose of the try clause? What is the purpose of the except clause?\n",
    "Ans: The code that could potentially cause an error goes in the clause. The code that executes if an error happens goes in the\n",
    "    "
   ]
  }
 ],
 "metadata": {
  "kernelspec": {
   "display_name": "Python 3 (ipykernel)",
   "language": "python",
   "name": "python3"
  },
  "language_info": {
   "codemirror_mode": {
    "name": "ipython",
    "version": 3
   },
   "file_extension": ".py",
   "mimetype": "text/x-python",
   "name": "python",
   "nbconvert_exporter": "python",
   "pygments_lexer": "ipython3",
   "version": "3.9.12"
  }
 },
 "nbformat": 4,
 "nbformat_minor": 5
}
