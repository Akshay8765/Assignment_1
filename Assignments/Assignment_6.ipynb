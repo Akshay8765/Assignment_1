{
 "cells": [
  {
   "cell_type": "code",
   "execution_count": null,
   "id": "0a8d2c12",
   "metadata": {},
   "outputs": [],
   "source": [
    "Assignment_6"
   ]
  },
  {
   "cell_type": "markdown",
   "id": "59e6e13b",
   "metadata": {},
   "source": [
    "1. What are escape characters, and how do you use them?\n",
    "Ans: Escape characters represent characters in string values that would otherwise be difficult or impossible to type into code.      We can use the backslash character to escape a single character or symbol  \n",
    "     example: \\t, \\n"
   ]
  },
  {
   "cell_type": "code",
   "execution_count": null,
   "id": "dd9703a0",
   "metadata": {},
   "outputs": [],
   "source": [
    "2. What do the escape characters n and t stand for?\n",
    "Ans: \\n is a newline, \\t is a tab"
   ]
  },
  {
   "cell_type": "code",
   "execution_count": null,
   "id": "509fc4a8",
   "metadata": {},
   "outputs": [],
   "source": [
    "3. What is the way to include backslash characters in a string?\n",
    "Ans: The \\\\ escape character will represent the backslash character in a string"
   ]
  },
  {
   "cell_type": "markdown",
   "id": "a4ec17ef",
   "metadata": {},
   "source": [
    "4. The string \"Howl's Moving Castle\" is a correct value. Why isn't the single quote character in the word Howl's not escaped a problem?\n",
    "Ans: The string \"Howl's Moving Castle\" escaped the problem because it is wrapped inside double quotes. if its wrapped inside single quotes then we have to use escape character \\' to show single quote in the final output  \n",
    "     'Howl\\'s Moving Castle' -> 'Howl's Moving Castle'"
   ]
  },
  {
   "cell_type": "code",
   "execution_count": null,
   "id": "73a10e17",
   "metadata": {},
   "outputs": [],
   "source": [
    "5. How do you write a string of newlines if you don't want to use the n character?\n",
    "Ans:  Docstrings allow you to use newlines in string without the \\n escape character  "
   ]
  },
  {
   "cell_type": "code",
   "execution_count": 1,
   "id": "8dc17ba5",
   "metadata": {},
   "outputs": [
    {
     "name": "stdout",
     "output_type": "stream",
     "text": [
      "Hello Friend\n",
      "How are you?\n"
     ]
    }
   ],
   "source": [
    "a = '''Hello Friend\n",
    "How are you?'''\n",
    "print(a)"
   ]
  },
  {
   "cell_type": "code",
   "execution_count": null,
   "id": "0c22a9db",
   "metadata": {},
   "outputs": [],
   "source": [
    "6. What are the values of the given expressions?\n",
    "'Hello, world!'[1]\n",
    "'Hello, world!'[0:5]\n",
    "'Hello, world!'[:5]\n",
    "'Hello, world!'[3:]\n",
    "\n",
    "Ans: The values for the given expressions are:  \n",
    "        'Hello, world!'[1] ->  'e'  \n",
    "        'Hello, world!'[0:5] ->  'Hello'  \n",
    "        'Hello, world!'[:5] ->  'Hello'  \n",
    "        'Hello, world!'[3:] ->  'lo, world!'"
   ]
  },
  {
   "cell_type": "code",
   "execution_count": null,
   "id": "fa4f7d2f",
   "metadata": {},
   "outputs": [],
   "source": [
    "7. What are the values of the following expressions ?\n",
    "'Hello'.upper()  \n",
    "'Hello'.upper().isupper()  \n",
    "'Hello'.upper().lower()    \n",
    "\n",
    "Ans: The values for the given expressions are:  \n",
    "        'Hello'.upper() -> 'HELLO'  \n",
    "        'Hello'.upper().isupper() ->  True    \n",
    "        'Hello'.upper().lower() -> 'hello'  "
   ]
  },
  {
   "cell_type": "code",
   "execution_count": null,
   "id": "61e56600",
   "metadata": {},
   "outputs": [],
   "source": [
    "8. What are the values of the following expressions?\n",
    "'Remember, remember, the fifith of July.'.split()  \n",
    "    -'.join('There can only one'.split())\n",
    "\n",
    "Ans: The values for the given expressions are:  \n",
    "    'Remember, remember, the fifith of July.'.split()    => ['Remember,', 'remember,', 'the', 'fifith', 'of', 'July.']  \n",
    "    '-'.join('There can only one'.split())               => 'There-can-only-one' "
   ]
  },
  {
   "cell_type": "code",
   "execution_count": null,
   "id": "0e2cc00f",
   "metadata": {},
   "outputs": [],
   "source": [
    "9. What are the methods for right-justifying, left-justifying and centering a string ?\n",
    "Ans: The rjust(),ljust(),center() string methods, respectively"
   ]
  },
  {
   "cell_type": "code",
   "execution_count": null,
   "id": "bd4e28c7",
   "metadata": {},
   "outputs": [],
   "source": [
    "10. What is the best way to remove whitespace characters from the start or end ?\n",
    "Ans: The lstrip() and rstrip() methods remove whitesapce characters from the left and right ends of a string respectively"
   ]
  }
 ],
 "metadata": {
  "kernelspec": {
   "display_name": "Python 3 (ipykernel)",
   "language": "python",
   "name": "python3"
  },
  "language_info": {
   "codemirror_mode": {
    "name": "ipython",
    "version": 3
   },
   "file_extension": ".py",
   "mimetype": "text/x-python",
   "name": "python",
   "nbconvert_exporter": "python",
   "pygments_lexer": "ipython3",
   "version": "3.9.12"
  }
 },
 "nbformat": 4,
 "nbformat_minor": 5
}
