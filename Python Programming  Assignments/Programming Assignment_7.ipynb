{
 "cells": [
  {
   "cell_type": "markdown",
   "id": "444acd6f",
   "metadata": {},
   "source": [
    "# Programming Assignment_7"
   ]
  },
  {
   "cell_type": "markdown",
   "id": "7286a02f",
   "metadata": {},
   "source": [
    "## 1. Write a Python Program to find sum of array?"
   ]
  },
  {
   "cell_type": "code",
   "execution_count": 1,
   "id": "98ca2a79",
   "metadata": {},
   "outputs": [
    {
     "name": "stdout",
     "output_type": "stream",
     "text": [
      "Enter the Array: 1,2,3,4,5,6,7\n",
      "The sum of (1, 2, 3, 4, 5, 6, 7) is 28\n"
     ]
    }
   ],
   "source": [
    "def sum_Array():\n",
    "    in_arr = eval(input(\"Enter the Array: \"))\n",
    "    print(f'The sum of {in_arr} is {sum(in_arr)}')\n",
    "\n",
    "sum_Array()"
   ]
  },
  {
   "cell_type": "markdown",
   "id": "fe2285ac",
   "metadata": {},
   "source": [
    "## 2. Write a Python Program to find Largest element in an Array ?"
   ]
  },
  {
   "cell_type": "code",
   "execution_count": 4,
   "id": "2686ffa3",
   "metadata": {},
   "outputs": [
    {
     "name": "stdout",
     "output_type": "stream",
     "text": [
      "Enter the Array: 23,78,5,77,6,23,56,78\n",
      "The Largest Element in (23, 78, 5, 77, 6, 23, 56, 78) is 78\n"
     ]
    }
   ],
   "source": [
    "def largest_Element():\n",
    "    in_arr = eval(input(\"Enter the Array: \"))\n",
    "    print(f\"The Largest Element in {in_arr} is {sorted(in_arr, reverse=True)[0]}\")\n",
    "    \n",
    "largest_Element()"
   ]
  },
  {
   "cell_type": "markdown",
   "id": "93ae1eef",
   "metadata": {},
   "source": [
    "## 3. Write a Python Program for array rotation ?"
   ]
  },
  {
   "cell_type": "code",
   "execution_count": 5,
   "id": "f04a1199",
   "metadata": {},
   "outputs": [
    {
     "name": "stdout",
     "output_type": "stream",
     "text": [
      "Enter the Array: 23,45,56,2,43,3,5,14,33,25\n",
      "The Reverse of Array (23, 45, 56, 2, 43, 3, 5, 14, 33, 25) is (25, 33, 14, 5, 3, 43, 2, 56, 45, 23)\n"
     ]
    }
   ],
   "source": [
    "def reverse_Array():\n",
    "    in_arr = eval(input(\"Enter the Array: \"))\n",
    "    print(f\"The Reverse of Array {in_arr} is {in_arr[::-1]}\")\n",
    "    \n",
    "reverse_Array()"
   ]
  },
  {
   "cell_type": "markdown",
   "id": "36f62abe",
   "metadata": {},
   "source": [
    "## 4. Write a Python Program to Split the array and add the first part to the end?"
   ]
  },
  {
   "cell_type": "code",
   "execution_count": 6,
   "id": "712d9d1b",
   "metadata": {},
   "outputs": [
    {
     "name": "stdout",
     "output_type": "stream",
     "text": [
      "Enter the Array: 10,33,45,26,74\n",
      "The Sum of First and Last Elements of Array (10, 33, 45, 26, 74) is 84\n"
     ]
    }
   ],
   "source": [
    "def sum_Splits():\n",
    "    in_arr = eval(input(\"Enter the Array: \"))\n",
    "    print(f\"The Sum of First and Last Elements of Array {in_arr} is {in_arr[0]+in_arr[-1]}\")\n",
    "    \n",
    "sum_Splits()"
   ]
  },
  {
   "cell_type": "markdown",
   "id": "8fd6e2cf",
   "metadata": {},
   "source": [
    "## 5. Write a Python Program to check if given array is Monotonic?"
   ]
  },
  {
   "cell_type": "code",
   "execution_count": 7,
   "id": "d5a8e397",
   "metadata": {},
   "outputs": [
    {
     "name": "stdout",
     "output_type": "stream",
     "text": [
      "Enter the Array: 1,2,3,4,5\n",
      "Array (1, 2, 3, 4, 5) is Monotonic\n",
      "Enter the Array: 2,5,3,8,1,4,9\n",
      "Array (2, 5, 3, 8, 1, 4, 9) is Not Monotonic\n"
     ]
    }
   ],
   "source": [
    "def check_Monotonic():\n",
    "    in_arr = eval(input(\"Enter the Array: \"))\n",
    "    if(all(in_arr[i]<=in_arr[i+1] for i in range(len(in_arr)-1)) or all(in_arr[i]>=in_arr[i+1] for i in range(len(in_arr)-1))):\n",
    "        print(f'Array {in_arr} is Monotonic')\n",
    "    else:\n",
    "        print(f'Array {in_arr} is Not Monotonic')\n",
    "\n",
    "check_Monotonic()\n",
    "check_Monotonic()"
   ]
  },
  {
   "cell_type": "code",
   "execution_count": null,
   "id": "de7ed840",
   "metadata": {},
   "outputs": [],
   "source": []
  }
 ],
 "metadata": {
  "kernelspec": {
   "display_name": "Python 3 (ipykernel)",
   "language": "python",
   "name": "python3"
  },
  "language_info": {
   "codemirror_mode": {
    "name": "ipython",
    "version": 3
   },
   "file_extension": ".py",
   "mimetype": "text/x-python",
   "name": "python",
   "nbconvert_exporter": "python",
   "pygments_lexer": "ipython3",
   "version": "3.9.12"
  }
 },
 "nbformat": 4,
 "nbformat_minor": 5
}
