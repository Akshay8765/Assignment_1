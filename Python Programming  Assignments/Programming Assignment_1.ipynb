{
 "cells": [
  {
   "cell_type": "markdown",
   "id": "8e1447ec",
   "metadata": {},
   "source": [
    "# Programming Assignment_1"
   ]
  },
  {
   "cell_type": "markdown",
   "id": "ee0186c1",
   "metadata": {},
   "source": [
    "### 1. Write a Python program to print &quot;Hello Python&quot;?"
   ]
  },
  {
   "cell_type": "code",
   "execution_count": 1,
   "id": "6a245c0b",
   "metadata": {},
   "outputs": [
    {
     "name": "stdout",
     "output_type": "stream",
     "text": [
      "Hello Python\n"
     ]
    }
   ],
   "source": [
    "print(\"Hello Python\")"
   ]
  },
  {
   "cell_type": "markdown",
   "id": "da75ecd0",
   "metadata": {},
   "source": [
    "### 2. Write a Python program to do arithmetical operations addition and division.?"
   ]
  },
  {
   "cell_type": "code",
   "execution_count": 2,
   "id": "9143bfa4",
   "metadata": {},
   "outputs": [
    {
     "name": "stdout",
     "output_type": "stream",
     "text": [
      "Select a Arithmetic Operation:       \n",
      "1.Addition(+)       \n",
      "2.Subtraction(-)       \n",
      "3.Multiplication(*)       \n",
      "4.Division(/)       \n",
      ".Stop(0)\n",
      "Enter a arithmetic operation ->+\n",
      "\n",
      "Enter 1st number: 10\n",
      "Enter 2nd number: 20\n",
      "10+20=30\n",
      "\n",
      "Enter a arithmetic operation ->-\n",
      "\n",
      "Enter 1st number: 30\n",
      "Enter 2nd number: 25\n",
      "30-25=5\n",
      "\n",
      "Enter a arithmetic operation ->*\n",
      "\n",
      "Enter 1st number: 22\n",
      "Enter 2nd number: 23\n",
      "22*23=506\n",
      "\n",
      "Enter a arithmetic operation ->/\n",
      "\n",
      "Enter 1st number: 45\n",
      "Enter 2nd number: 5\n",
      "45/5=9.0\n",
      "\n",
      "Enter a arithmetic operation ->0\n",
      "program stopped successfully\n"
     ]
    }
   ],
   "source": [
    "import operator\n",
    "\n",
    "ops={\"+\":operator.add, \"-\":operator.sub, \"*\":operator.mul, \"/\":operator.truediv}\n",
    "\n",
    "print(\"Select a Arithmetic Operation:\\\n",
    "       \\n1.Addition(+)\\\n",
    "       \\n2.Subtraction(-)\\\n",
    "       \\n3.Multiplication(*)\\\n",
    "       \\n4.Division(/)\\\n",
    "       \\n.Stop(0)\")\n",
    "\n",
    "while True:\n",
    "    operator = input(\"Enter a arithmetic operation ->\")\n",
    "    if operator == '0':\n",
    "        print(\"program stopped successfully\")\n",
    "        break\n",
    "    elif operator not in ['+','-','*','/']:\n",
    "        print(\"Please enter a valid operator\")\n",
    "    else:\n",
    "        num_1 = int(input(\"\\nEnter 1st number: \"))\n",
    "        num_2 = int(input(\"Enter 2nd number: \"))\n",
    "        print(\"{}{}{}={}\\n\". format(num_1, operator, num_2, ops[operator](num_1,num_2)))"
   ]
  },
  {
   "cell_type": "markdown",
   "id": "c0af6219",
   "metadata": {},
   "source": [
    "### 3. Write a Python program to find the area of a triangle?"
   ]
  },
  {
   "cell_type": "code",
   "execution_count": 3,
   "id": "3ef46da5",
   "metadata": {},
   "outputs": [
    {
     "name": "stdout",
     "output_type": "stream",
     "text": [
      "Enter height of triangle: 120\n",
      "Enter base of triangle: 60\n",
      "\n",
      "Area of triangle -> 3600.0\n"
     ]
    }
   ],
   "source": [
    "height = int(input(\"Enter height of triangle: \"))\n",
    "base = int(input(\"Enter base of triangle: \"))\n",
    "\n",
    "def area_of_tri(height, base):\n",
    "    print(\"\\nArea of triangle ->\", 0.5*height*base)\n",
    "    \n",
    "area_of_tri(height, base)    "
   ]
  },
  {
   "cell_type": "markdown",
   "id": "dd586bd2",
   "metadata": {},
   "source": [
    "### 4. Write a Python program to swap two variables?"
   ]
  },
  {
   "cell_type": "code",
   "execution_count": 4,
   "id": "9636ba79",
   "metadata": {},
   "outputs": [
    {
     "name": "stdout",
     "output_type": "stream",
     "text": [
      "Enter first number: 125\n",
      "Enter second number135\n",
      "Before swapping -> 125 135\n",
      "After swapping -> 135 125\n"
     ]
    }
   ],
   "source": [
    "num_1 = int(input(\"Enter first number: \"))\n",
    "num_2 = int(input(\"Enter second number\"))\n",
    "\n",
    "def swap_num(a,b):\n",
    "    temp = a\n",
    "    a=b\n",
    "    b=temp\n",
    "    return a,b\n",
    "\n",
    "print(\"Before swapping ->\",num_1, num_2)\n",
    "num_1, num_2 = swap_num(num_1,num_2)\n",
    "print(\"After swapping ->\", num_1,num_2)"
   ]
  },
  {
   "cell_type": "markdown",
   "id": "e9e49ae1",
   "metadata": {},
   "source": [
    "### 5. Write a Python program to generate a random number?"
   ]
  },
  {
   "cell_type": "code",
   "execution_count": 5,
   "id": "ad4bd59b",
   "metadata": {},
   "outputs": [
    {
     "name": "stdout",
     "output_type": "stream",
     "text": [
      "Random number ->  14765\n",
      "Random number ->  3541\n"
     ]
    }
   ],
   "source": [
    "from random import randint\n",
    "def rand_num(start=0, end=100000):\n",
    "    print(\"Random number -> \", randint(start,end))\n",
    "    \n",
    "# Generating randon number without arguments\n",
    "rand_num()\n",
    "\n",
    "# Genetating random number with arguments\n",
    "rand_num(100,10000)"
   ]
  },
  {
   "cell_type": "code",
   "execution_count": null,
   "id": "0887cbbb",
   "metadata": {},
   "outputs": [],
   "source": []
  }
 ],
 "metadata": {
  "kernelspec": {
   "display_name": "Python 3 (ipykernel)",
   "language": "python",
   "name": "python3"
  },
  "language_info": {
   "codemirror_mode": {
    "name": "ipython",
    "version": 3
   },
   "file_extension": ".py",
   "mimetype": "text/x-python",
   "name": "python",
   "nbconvert_exporter": "python",
   "pygments_lexer": "ipython3",
   "version": "3.9.12"
  }
 },
 "nbformat": 4,
 "nbformat_minor": 5
}
