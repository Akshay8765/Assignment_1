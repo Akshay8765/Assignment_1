{
 "cells": [
  {
   "cell_type": "markdown",
   "id": "d5b32d1a",
   "metadata": {},
   "source": [
    "# Programming Assignment_5"
   ]
  },
  {
   "cell_type": "markdown",
   "id": "7c70dff5",
   "metadata": {},
   "source": [
    "## 1. Write a Python Program to Find LCM?"
   ]
  },
  {
   "cell_type": "code",
   "execution_count": 3,
   "id": "495d1668",
   "metadata": {},
   "outputs": [
    {
     "name": "stdout",
     "output_type": "stream",
     "text": [
      "The LCM of 3, 6 is 6\n",
      "The LCM of 5, 10 is 10\n",
      "The LCM of 125, 145 is 3625\n"
     ]
    }
   ],
   "source": [
    "def find_LCM(x_num, y_num):\n",
    "    if x_num > y_num:\n",
    "        greater = x_num\n",
    "    else:\n",
    "        greater = x_num\n",
    "    while True:\n",
    "        if((greater%x_num == 0) and (greater%y_num == 0)):\n",
    "            LCM = greater\n",
    "            break\n",
    "        else:\n",
    "            greater +=1\n",
    "    print(f\"The LCM of {x_num}, {y_num} is {LCM}\")\n",
    "    \n",
    "find_LCM(3,6)\n",
    "find_LCM(5,10)\n",
    "find_LCM(125,145)"
   ]
  },
  {
   "cell_type": "markdown",
   "id": "dbb9777f",
   "metadata": {},
   "source": [
    "## 2. Write a Python Program to Find HCF?"
   ]
  },
  {
   "cell_type": "code",
   "execution_count": 4,
   "id": "03f0caab",
   "metadata": {},
   "outputs": [
    {
     "name": "stdout",
     "output_type": "stream",
     "text": [
      "The HCF of 8, 12 is 4\n",
      "The HCF of 24, 122 is 2\n",
      "The HCF of 10, 100 is 10\n"
     ]
    }
   ],
   "source": [
    "def find_HCF(x_num, y_num):\n",
    "    if x_num > y_num:\n",
    "        smaller = y_num\n",
    "    else:\n",
    "        smaller = x_num\n",
    "    for ele in range(1,smaller+1):\n",
    "        if ((x_num%ele == 0) and (y_num%ele == 0)):\n",
    "            HCF = ele\n",
    "    print(f\"The HCF of {x_num}, {y_num} is {HCF}\")\n",
    "    \n",
    "find_HCF(8,12)\n",
    "find_HCF(24,122)\n",
    "find_HCF(10,100)"
   ]
  },
  {
   "cell_type": "markdown",
   "id": "eb0b1469",
   "metadata": {},
   "source": [
    "## 3. Write a Python Program to Convert Decimal to Binary, Octal and Hexadecimal?"
   ]
  },
  {
   "cell_type": "code",
   "execution_count": 5,
   "id": "78f2653b",
   "metadata": {},
   "outputs": [
    {
     "name": "stdout",
     "output_type": "stream",
     "text": [
      "Enter a number125\n",
      "Binary number -> 0b1111101\n",
      "Octal number -> 0o175\n",
      "Hexadecimal number -> 0x7d\n"
     ]
    }
   ],
   "source": [
    "def decimal_to_BOX():\n",
    "    num = int(input(\"Enter a number\"))\n",
    "    print(f\"Binary number -> {bin(num)}\")\n",
    "    print(f\"Octal number -> {oct(num)}\")\n",
    "    print(f\"Hexadecimal number -> {hex(num)}\")\n",
    "    \n",
    "decimal_to_BOX()    "
   ]
  },
  {
   "cell_type": "markdown",
   "id": "76bc8ad4",
   "metadata": {},
   "source": [
    "## 4. Write a Python Program To Find ASCII value of a character?"
   ]
  },
  {
   "cell_type": "code",
   "execution_count": 8,
   "id": "eccdd0f2",
   "metadata": {},
   "outputs": [
    {
     "name": "stdout",
     "output_type": "stream",
     "text": [
      "Enter the character: $\n",
      "Ascii character of $ is 36\n"
     ]
    }
   ],
   "source": [
    "def char_to_ascii():\n",
    "    char = input(\"Enter the character: \")\n",
    "    if len(char) > 1:\n",
    "        print(\"Please Enter a single character\")\n",
    "    else:\n",
    "            print(f\"Ascii character of {char} is {ord(char)}\")\n",
    "            \n",
    "char_to_ascii()"
   ]
  },
  {
   "cell_type": "markdown",
   "id": "c11b5165",
   "metadata": {},
   "source": [
    "## 5. Write a Python Program to Make a Simple Calculator with 4 Basic Mathematical operations ?"
   ]
  },
  {
   "cell_type": "code",
   "execution_count": 10,
   "id": "8f8467da",
   "metadata": {},
   "outputs": [
    {
     "name": "stdout",
     "output_type": "stream",
     "text": [
      "Select a Arithmetic Operation:         \n",
      "1.Addition(+)        \n",
      "2.Division(-)        \n",
      "2.Multiplication(*)        \n",
      "4.Division(/)        \n",
      "3.Stop(0)\n",
      "\n",
      "Enter a arithmetic operation -> +\n",
      "\n",
      "Enter 1st Number: 20\n",
      "Enter 2nd Number: 12\n",
      "20+12=32\n",
      "\n",
      "Enter a arithmetic operation -> -\n",
      "\n",
      "Enter 1st Number: 120\n",
      "Enter 2nd Number: 20\n",
      "120-20=100\n",
      "\n",
      "Enter a arithmetic operation -> *\n",
      "\n",
      "Enter 1st Number: 34\n",
      "Enter 2nd Number: 2\n",
      "34*2=68\n",
      "\n",
      "Enter a arithmetic operation -> /\n",
      "\n",
      "Enter 1st Number: 22\n",
      "Enter 2nd Number: 7\n",
      "22/7=3.142857142857143\n",
      "\n",
      "Enter a arithmetic operation -> 0\n",
      "Program Stopped successfully\n"
     ]
    }
   ],
   "source": [
    "import operator\n",
    "\n",
    "ops = { \"+\": operator.add, \"-\": operator.sub, \"*\":operator.mul, \"/\":operator.truediv } \n",
    "\n",
    "print('Select a Arithmetic Operation: \\\n",
    "        \\n1.Addition(+)\\\n",
    "        \\n2.Division(-)\\\n",
    "        \\n2.Multiplication(*)\\\n",
    "        \\n4.Division(/)\\\n",
    "        \\n3.Stop(0)\\n')\n",
    "   \n",
    "\n",
    "while True:\n",
    "    operator = input('Enter a arithmetic operation -> ')\n",
    "    if operator == '0':\n",
    "        print(\"Program Stopped successfully\")\n",
    "        break\n",
    "    elif operator not in ['+','-','*','/']:\n",
    "        print(\"Please enter a valid operator\")\n",
    "    else:\n",
    "        num_1 = int(input('\\nEnter 1st Number: '))\n",
    "        num_2 = int(input('Enter 2nd Number: '))\n",
    "        print(f'{num_1}{operator}{num_2}={ops[operator](num_1,num_2)}\\n')"
   ]
  },
  {
   "cell_type": "code",
   "execution_count": null,
   "id": "19b6597a",
   "metadata": {},
   "outputs": [],
   "source": []
  }
 ],
 "metadata": {
  "kernelspec": {
   "display_name": "Python 3 (ipykernel)",
   "language": "python",
   "name": "python3"
  },
  "language_info": {
   "codemirror_mode": {
    "name": "ipython",
    "version": 3
   },
   "file_extension": ".py",
   "mimetype": "text/x-python",
   "name": "python",
   "nbconvert_exporter": "python",
   "pygments_lexer": "ipython3",
   "version": "3.9.12"
  }
 },
 "nbformat": 4,
 "nbformat_minor": 5
}
