{
 "cells": [
  {
   "cell_type": "markdown",
   "id": "b27417e2",
   "metadata": {},
   "source": [
    "# programming Assingment_4"
   ]
  },
  {
   "cell_type": "markdown",
   "id": "840f0fdf",
   "metadata": {},
   "source": [
    "## 1. Write a Python Program to Find the Factorial of a Number?"
   ]
  },
  {
   "cell_type": "code",
   "execution_count": 1,
   "id": "08cb4d5b",
   "metadata": {},
   "outputs": [
    {
     "name": "stdout",
     "output_type": "stream",
     "text": [
      "Enter a number: 5\n",
      "The Factorial of 5 is 120\n"
     ]
    }
   ],
   "source": [
    "def factorial(num):\n",
    "    if (num < 1):\n",
    "        return 1\n",
    "    else:\n",
    "        return num*factorial(num-1)\n",
    "\n",
    "num = int(input(\"Enter a number: \"))\n",
    "val = factorial(num)\n",
    "print(f\"The Factorial of {num} is {val}\")"
   ]
  },
  {
   "cell_type": "markdown",
   "id": "d82efb09",
   "metadata": {},
   "source": [
    "## 2. Write a Python Program to Display the multiplication Table?"
   ]
  },
  {
   "cell_type": "code",
   "execution_count": 10,
   "id": "9d2e1b6a",
   "metadata": {},
   "outputs": [
    {
     "name": "stdout",
     "output_type": "stream",
     "text": [
      "Enter a number: 5\n",
      "Enter no of entries: 10\n",
      "5 X 1 = 5\n",
      "5 X 2 = 10\n",
      "5 X 3 = 15\n",
      "5 X 4 = 20\n",
      "5 X 5 = 25\n",
      "5 X 6 = 30\n",
      "5 X 7 = 35\n",
      "5 X 8 = 40\n",
      "5 X 9 = 45\n",
      "5 X 10 = 50\n"
     ]
    }
   ],
   "source": [
    "def mult_table(base,entries):\n",
    "    for x in range(1, entries+1):\n",
    "        print(f\"{base} X {x} = {base*x}\")\n",
    "        \n",
    "num = int(input(\"Enter a number: \"))\n",
    "Val = int(input(\"Enter no of entries: \"))\n",
    "mult_table(num,Val)"
   ]
  },
  {
   "cell_type": "markdown",
   "id": "2cedfc60",
   "metadata": {},
   "source": [
    "## 3. Write a Python Program to Print the Fibonacci sequence?"
   ]
  },
  {
   "cell_type": "code",
   "execution_count": 11,
   "id": "ba41272c",
   "metadata": {},
   "outputs": [
    {
     "name": "stdout",
     "output_type": "stream",
     "text": [
      "Enter the no of fibonacci sequences you want?30\n",
      "The first 30 fibonacci series are:  [0, 1, 1, 2, 3, 5, 8, 13, 21, 34, 55, 89, 144, 233, 377, 610, 987, 1597, 2584, 4181, 6765, 10946, 17711, 28657, 46368, 75025, 121393, 196418, 317811, 514229]\n"
     ]
    }
   ],
   "source": [
    "s_count = int(input(\"Enter the no of fibonacci sequences you want?\"))\n",
    "initial_list = [0,1]\n",
    "if s_count < 0:\n",
    "    print(\"Fibonacci number are not availale for negative number\")\n",
    "elif s_count <= 2 and s_count >= 0:\n",
    "    print(initial_list)\n",
    "else:\n",
    "    for ins in range(s_count):\n",
    "        if ins >= 2:\n",
    "            initial_list.append(initial_list[ins-1]+initial_list[ins-2])\n",
    "    print(f\"The first {s_count} fibonacci series are: \", initial_list)       "
   ]
  },
  {
   "cell_type": "markdown",
   "id": "b6b2a110",
   "metadata": {},
   "source": [
    "## 4. Write a Python Program to Check Armstrong Number?"
   ]
  },
  {
   "cell_type": "code",
   "execution_count": 3,
   "id": "6c93ab6c",
   "metadata": {},
   "outputs": [
    {
     "name": "stdout",
     "output_type": "stream",
     "text": [
      "Enter a number: 153\n",
      "153 is a Armstrong number\n",
      "Enter a number: 100\n",
      "100 is a Not Armstrong number\n"
     ]
    }
   ],
   "source": [
    "def check_armstrong():\n",
    "    in_num = input(\"Enter a number: \")\n",
    "    sum=0\n",
    "    for char in range(len(in_num)):\n",
    "        sum=sum+pow(int(in_num[char]),3)\n",
    "    if sum==int(in_num):\n",
    "        print(f\"{in_num} is a Armstrong number\")\n",
    "    else:\n",
    "        print(f\"{in_num} is a Not Armstrong number\")\n",
    "        \n",
    "for x in range(2):\n",
    "    check_armstrong()"
   ]
  },
  {
   "cell_type": "markdown",
   "id": "d9156b33",
   "metadata": {},
   "source": [
    "## 5. Write a Python Program to Find Armstrong Number in an Interval?"
   ]
  },
  {
   "cell_type": "code",
   "execution_count": 5,
   "id": "c70eb5d7",
   "metadata": {},
   "outputs": [
    {
     "name": "stdout",
     "output_type": "stream",
     "text": [
      "Enter the start of interval: 1\n",
      "Enter the end of interval: 10000\n",
      "The armstrong number between 1 and 10000 are [1, 153, 370, 371, 407]\n"
     ]
    }
   ],
   "source": [
    "def checkArmstrong_num(in_num, storage):\n",
    "    sum = 0\n",
    "    for char in range(len(in_num)):\n",
    "        sum = sum + pow(int(in_num[char]),3)\n",
    "    if sum == int(in_num):\n",
    "        storage.append(int(in_num))\n",
    "        \n",
    "start_interval = int(input(\"Enter the start of interval: \"))\n",
    "end_interval = int(input(\"Enter the end of interval: \"))\n",
    "list_of_armstrong=[]\n",
    "\n",
    "if start_interval > end_interval:\n",
    "    print(\"Start interval cannot be greater than end interval\")\n",
    "else:\n",
    "    for number in range(start_interval,end_interval+1):\n",
    "        checkArmstrong_num(str(number),list_of_armstrong)\n",
    "    print(f\"The armstrong number between {start_interval} and {end_interval} are {list_of_armstrong}\")    "
   ]
  },
  {
   "cell_type": "markdown",
   "id": "9b69184e",
   "metadata": {},
   "source": [
    "## 6. Write a Python Program to Find the Sum of Natural Numbers?"
   ]
  },
  {
   "cell_type": "code",
   "execution_count": 7,
   "id": "cc90a52a",
   "metadata": {},
   "outputs": [
    {
     "name": "stdout",
     "output_type": "stream",
     "text": [
      "Enter a number: 124\n",
      "Sum of 124 natural numbers is 7750.0\n"
     ]
    }
   ],
   "source": [
    "def sum_Natural_Numbers(num):\n",
    "    sum = num*((num+1)/2)\n",
    "    print(f'Sum of {num} natural numbers is {sum}')\n",
    "    \n",
    "num = int(input('Enter a number: '))\n",
    "sum_Natural_Numbers(num)"
   ]
  },
  {
   "cell_type": "code",
   "execution_count": null,
   "id": "0a9324e6",
   "metadata": {},
   "outputs": [],
   "source": []
  }
 ],
 "metadata": {
  "kernelspec": {
   "display_name": "Python 3 (ipykernel)",
   "language": "python",
   "name": "python3"
  },
  "language_info": {
   "codemirror_mode": {
    "name": "ipython",
    "version": 3
   },
   "file_extension": ".py",
   "mimetype": "text/x-python",
   "name": "python",
   "nbconvert_exporter": "python",
   "pygments_lexer": "ipython3",
   "version": "3.9.12"
  }
 },
 "nbformat": 4,
 "nbformat_minor": 5
}
